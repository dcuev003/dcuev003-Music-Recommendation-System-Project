{
 "cells": [
  {
   "cell_type": "code",
   "execution_count": 26,
   "metadata": {},
   "outputs": [],
   "source": [
    "import pandas as pd\n",
    "import numpy as np"
   ]
  },
  {
   "cell_type": "code",
   "execution_count": 50,
   "metadata": {},
   "outputs": [
    {
     "name": "stdout",
     "output_type": "stream",
     "text": [
      "<class 'pandas.core.frame.DataFrame'>\n",
      "RangeIndex: 205 entries, 0 to 204\n",
      "Data columns (total 26 columns):\n",
      "Symboling            205 non-null int64\n",
      "Normalized-losses    205 non-null object\n",
      "Make                 205 non-null object\n",
      "Fuel-type            205 non-null object\n",
      "Aspiration           205 non-null object\n",
      "Num-of-doors         205 non-null object\n",
      "Body-style           205 non-null object\n",
      "Drive-wheels         205 non-null object\n",
      "engine-location      205 non-null object\n",
      "Wheel-base           205 non-null float64\n",
      "Length               205 non-null float64\n",
      "Width                205 non-null float64\n",
      "Height               205 non-null float64\n",
      "Curb-Weight          205 non-null int64\n",
      "Engine-type          205 non-null object\n",
      "Num-of-cylinders     205 non-null object\n",
      "engine-size          205 non-null int64\n",
      "fuel-system          205 non-null object\n",
      "bore                 205 non-null object\n",
      "stroke               205 non-null object\n",
      "compression-ratio    205 non-null float64\n",
      "horsepower           205 non-null object\n",
      "peak-rpm             205 non-null object\n",
      "city-mpg             205 non-null int64\n",
      "highway-mpg          205 non-null int64\n",
      "price                205 non-null object\n",
      "dtypes: float64(5), int64(5), object(16)\n",
      "memory usage: 41.8+ KB\n"
     ]
    }
   ],
   "source": [
    "col = ['Symboling', 'Normalized-losses', 'Make', 'Fuel-type', 'Aspiration', 'Num-of-doors', 'Body-style', 'Drive-wheels', \n",
    "       'engine-location', 'Wheel-base', 'Length', 'Width', 'Height', 'Curb-Weight', 'Engine-type', 'Num-of-cylinders',\n",
    "      'engine-size', 'fuel-system', 'bore', 'stroke', 'compression-ratio', 'horsepower', 'peak-rpm', 'city-mpg', 'highway-mpg',\n",
    "        'price']\n",
    "\n",
    "cars = pd.read_csv(\"imports-85.data\", names=col, header=None)\n",
    "cars.info()"
   ]
  },
  {
   "cell_type": "code",
   "execution_count": 51,
   "metadata": {},
   "outputs": [
    {
     "name": "stdout",
     "output_type": "stream",
     "text": [
      "<class 'pandas.core.frame.DataFrame'>\n",
      "RangeIndex: 205 entries, 0 to 204\n",
      "Data columns (total 26 columns):\n",
      "Symboling            205 non-null int64\n",
      "Normalized-losses    164 non-null object\n",
      "Make                 205 non-null object\n",
      "Fuel-type            205 non-null object\n",
      "Aspiration           205 non-null object\n",
      "Num-of-doors         203 non-null object\n",
      "Body-style           205 non-null object\n",
      "Drive-wheels         205 non-null object\n",
      "engine-location      205 non-null object\n",
      "Wheel-base           205 non-null float64\n",
      "Length               205 non-null float64\n",
      "Width                205 non-null float64\n",
      "Height               205 non-null float64\n",
      "Curb-Weight          205 non-null int64\n",
      "Engine-type          205 non-null object\n",
      "Num-of-cylinders     205 non-null object\n",
      "engine-size          205 non-null int64\n",
      "fuel-system          205 non-null object\n",
      "bore                 201 non-null object\n",
      "stroke               201 non-null object\n",
      "compression-ratio    205 non-null float64\n",
      "horsepower           203 non-null object\n",
      "peak-rpm             203 non-null object\n",
      "city-mpg             205 non-null int64\n",
      "highway-mpg          205 non-null int64\n",
      "price                201 non-null object\n",
      "dtypes: float64(5), int64(5), object(16)\n",
      "memory usage: 41.8+ KB\n"
     ]
    }
   ],
   "source": [
    "cars.replace(\"?\", np.nan, inplace=True)\n",
    "cars.info()"
   ]
  },
  {
   "cell_type": "code",
   "execution_count": 52,
   "metadata": {},
   "outputs": [],
   "source": [
    "cars[['bore', 'stroke']] = cars[['bore', 'stroke']].astype(float)"
   ]
  },
  {
   "cell_type": "code",
   "execution_count": 53,
   "metadata": {},
   "outputs": [
    {
     "name": "stdout",
     "output_type": "stream",
     "text": [
      "<class 'pandas.core.frame.DataFrame'>\n",
      "RangeIndex: 205 entries, 0 to 204\n",
      "Data columns (total 25 columns):\n",
      "Symboling            205 non-null int64\n",
      "Make                 205 non-null object\n",
      "Fuel-type            205 non-null object\n",
      "Aspiration           205 non-null object\n",
      "Num-of-doors         203 non-null object\n",
      "Body-style           205 non-null object\n",
      "Drive-wheels         205 non-null object\n",
      "engine-location      205 non-null object\n",
      "Wheel-base           205 non-null float64\n",
      "Length               205 non-null float64\n",
      "Width                205 non-null float64\n",
      "Height               205 non-null float64\n",
      "Curb-Weight          205 non-null int64\n",
      "Engine-type          205 non-null object\n",
      "Num-of-cylinders     205 non-null object\n",
      "engine-size          205 non-null int64\n",
      "fuel-system          205 non-null object\n",
      "bore                 201 non-null float64\n",
      "stroke               201 non-null float64\n",
      "compression-ratio    205 non-null float64\n",
      "horsepower           203 non-null object\n",
      "peak-rpm             203 non-null object\n",
      "city-mpg             205 non-null int64\n",
      "highway-mpg          205 non-null int64\n",
      "price                201 non-null object\n",
      "dtypes: float64(7), int64(5), object(13)\n",
      "memory usage: 40.2+ KB\n"
     ]
    }
   ],
   "source": [
    "cars.drop(columns=['Normalized-losses'], inplace=True)\n",
    "cars.info()"
   ]
  },
  {
   "cell_type": "code",
   "execution_count": null,
   "metadata": {},
   "outputs": [],
   "source": []
  },
  {
   "cell_type": "code",
   "execution_count": null,
   "metadata": {},
   "outputs": [],
   "source": []
  }
 ],
 "metadata": {
  "kernelspec": {
   "display_name": "Python 3",
   "language": "python",
   "name": "python3"
  },
  "language_info": {
   "codemirror_mode": {
    "name": "ipython",
    "version": 3
   },
   "file_extension": ".py",
   "mimetype": "text/x-python",
   "name": "python",
   "nbconvert_exporter": "python",
   "pygments_lexer": "ipython3",
   "version": "3.7.4"
  }
 },
 "nbformat": 4,
 "nbformat_minor": 4
}
